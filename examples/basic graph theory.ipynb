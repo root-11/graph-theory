{
 "cells": [
  {
   "cell_type": "markdown",
   "metadata": {
    "pycharm": {
     "name": "#%% md\n"
    }
   },
   "source": [
    "# Introduction to Graph-theory\n",
    "\n",
    "[Graph-theory](https://en.wikipedia.org/wiki/Graph_theory) is the study of graphs,\n",
    "which are mathematical structures used to model pairwise relations between objects.\n",
    "\n",
    "Graphs are among the most ubiquitous models of both natural and human-made structures.\n",
    "They can model many types of relations and process dynamics in physical, biological\n",
    "and social systems. In computer science, they can represent networks of communication,\n",
    "data organization, computational devices, the flow of computation, etc.\n",
    "Graphs are one of the principal objects of study in\n",
    "[discrete mathematics](https://en.wikipedia.org/wiki/Discrete_mathematics).\n",
    "\n",
    "![6 nodes](images/6nodes.png)\n",
    "\n",
    "| alias | name used in<br>Graph-theory | description | syntax |\n",
    "|---|:---:|---|---|\n",
    "|node, vertice, point| **node** | an intersection of edges |  `g.add_node('x')` |\n",
    "| edge, line, link| **edge** | the line that connects intersections  | `g.add_edge('a','b')`|\n",
    "| the weight, cost or value of an edge | **value** | numeric value of an edge  | `g.add_edge('a','b',value=4)`|\n",
    "|in-degree | **in_degree**| the number of incoming edges | `g.in_degree('a')` |\n",
    "|out-degree| **out_degree**| the number of outgoing edges| `g.out_degree('b')` |\n",
    "|path| **path**| an ordered collection of nodes | (a list of nodes) |\n",
    "|distance, length, costs| **---**  | the sum of values of a set of edges | (number) |\n",
    "| subgraph | **subgraph**| the nodes and edges of *g'* exists in *g* ||\n"
   ]
  },
  {
   "cell_type": "markdown",
   "metadata": {},
   "source": [
    "To add nodes the syntax is simple"
   ]
  },
  {
   "cell_type": "code",
   "execution_count": 1,
   "metadata": {},
   "outputs": [
    {
     "name": "stdout",
     "output_type": "stream",
     "text": [
      "Graph(1 nodes, 0 edges)\n"
     ]
    }
   ],
   "source": [
    "from graph import Graph\n",
    "g = Graph()\n",
    "g.add_node('C')\n",
    "print(g)"
   ]
  },
  {
   "cell_type": "markdown",
   "metadata": {},
   "source": [
    "To associate the node with an object, you can use the `obj` keyword like this:"
   ]
  },
  {
   "cell_type": "code",
   "execution_count": 2,
   "metadata": {},
   "outputs": [],
   "source": [
    "g.add_node('C', obj={'monty':'python'})"
   ]
  },
  {
   "cell_type": "markdown",
   "metadata": {},
   "source": [
    "This save you from managing the objects externally and permits algorithms to use the object directly.\n",
    "\n",
    "To retrieve the object use:"
   ]
  },
  {
   "cell_type": "code",
   "execution_count": 3,
   "metadata": {},
   "outputs": [
    {
     "data": {
      "text/plain": [
       "{'monty': 'python'}"
      ]
     },
     "execution_count": 3,
     "metadata": {},
     "output_type": "execute_result"
    }
   ],
   "source": [
    "g.node('C')"
   ]
  },
  {
   "cell_type": "markdown",
   "metadata": {},
   "source": [
    "And to delete the node use:\n"
   ]
  },
  {
   "cell_type": "code",
   "execution_count": 4,
   "metadata": {},
   "outputs": [],
   "source": [
    "g.del_node('C')"
   ]
  },
  {
   "cell_type": "markdown",
   "metadata": {},
   "source": [
    "To add edges the syntax is equally simple:"
   ]
  },
  {
   "cell_type": "code",
   "execution_count": 5,
   "metadata": {
    "jupyter": {
     "outputs_hidden": false
    },
    "pycharm": {
     "name": "#%%\n"
    }
   },
   "outputs": [
    {
     "name": "stdout",
     "output_type": "stream",
     "text": [
      "Graph(2 nodes, 1 edges)\n"
     ]
    }
   ],
   "source": [
    "from graph import Graph\n",
    "g = Graph()\n",
    "g.add_edge('A', 'B', value=4)\n",
    "print(g)"
   ]
  },
  {
   "cell_type": "markdown",
   "metadata": {},
   "source": [
    "To get all edges use:"
   ]
  },
  {
   "cell_type": "code",
   "execution_count": 6,
   "metadata": {
    "jupyter": {
     "outputs_hidden": false
    },
    "pycharm": {
     "name": "#%%\n"
    }
   },
   "outputs": [
    {
     "data": {
      "text/plain": [
       "[('A', 'B', 4)]"
      ]
     },
     "execution_count": 6,
     "metadata": {},
     "output_type": "execute_result"
    }
   ],
   "source": [
    "g.edges()"
   ]
  },
  {
   "cell_type": "markdown",
   "metadata": {},
   "source": [
    "Or to view a specific edge `value`, use:"
   ]
  },
  {
   "cell_type": "code",
   "execution_count": 7,
   "metadata": {},
   "outputs": [
    {
     "data": {
      "text/plain": [
       "4"
      ]
     },
     "execution_count": 7,
     "metadata": {},
     "output_type": "execute_result"
    }
   ],
   "source": [
    "g.edge('A', 'B')"
   ]
  },
  {
   "cell_type": "markdown",
   "metadata": {},
   "source": [
    "As you see, `g.edges()` returns a list of immutable tuples with `(from, to, value)`.  \n",
    "\n",
    "Note that it isn't necessary to add the nodes first. When you use `g.add_edge(...)` the library will detect that the nodes haven't been created and add them quietly."
   ]
  },
  {
   "cell_type": "markdown",
   "metadata": {
    "pycharm": {
     "name": "#%% md\n"
    }
   },
   "source": [
    "If you need to update the value on the edge just use `g.add_edge('A','B', value=10)` again.\n",
    "The edge works like a dictionary, where the pair of node `'A'` and `'B'` is the key where the `10` is the value.\n",
    "\n",
    "In some cases it is not required for the graph to be directed. Mathematicians call this undirected.\n",
    "In Python a principal philosophy is that *explicit is better than implicit*, so in graph-theory *undirected* is interpreted as bidirectional. To make this explicit when adding edges, either add an edge for both directions, or use the keyword `bidirectional` which is a helper for doing these to step in one step:\n",
    "\n",
    "|this... | ...is the same as this|\n",
    "|---|---|\n",
    "|`g.add_edge('A','B')`<br>`g.add_edge('B','A')`|`g.add_edge('A','B', bidirectional=True)`|\n",
    "\n",
    "In other cases multiple edges between nodes are required. Graph-theory allows this using\n",
    "dummy nodes. Here's an example:"
   ]
  },
  {
   "cell_type": "markdown",
   "metadata": {},
   "source": [
    "The graph will store the in- and -out-degree of every node when the edges are added and removed, so the in_degree and out_degree is available immediately e.g. ($O(1)$ [computational complexity](https://wiki.python.org/moin/TimeComplexity)). Here's an example:"
   ]
  },
  {
   "cell_type": "code",
   "execution_count": 8,
   "metadata": {},
   "outputs": [
    {
     "data": {
      "text/plain": [
       "0"
      ]
     },
     "execution_count": 8,
     "metadata": {},
     "output_type": "execute_result"
    }
   ],
   "source": [
    "g.in_degree('A')"
   ]
  },
  {
   "cell_type": "code",
   "execution_count": 9,
   "metadata": {},
   "outputs": [
    {
     "data": {
      "text/plain": [
       "1"
      ]
     },
     "execution_count": 9,
     "metadata": {},
     "output_type": "execute_result"
    }
   ],
   "source": [
    "g.out_degree('A')"
   ]
  },
  {
   "cell_type": "markdown",
   "metadata": {},
   "source": [
    "Finally, to delete an edge, simply use:"
   ]
  },
  {
   "cell_type": "code",
   "execution_count": 10,
   "metadata": {},
   "outputs": [],
   "source": [
    "g.del_edge('A','B')"
   ]
  },
  {
   "cell_type": "markdown",
   "metadata": {},
   "source": [
    "To replicate the graph in the image in the begging of this section, we will use a helper from the graphs initialization methods `from_list`:"
   ]
  },
  {
   "cell_type": "code",
   "execution_count": 11,
   "metadata": {},
   "outputs": [],
   "source": [
    "g = Graph(from_list=[(1,2),(2,3),(3,4),(4,5),(5,6),(5,1),(2,5)])"
   ]
  },
  {
   "cell_type": "markdown",
   "metadata": {},
   "source": [
    "As we can't create a bidirectional graph implicitly, we can do so explicitly:"
   ]
  },
  {
   "cell_type": "code",
   "execution_count": 12,
   "metadata": {},
   "outputs": [],
   "source": [
    "g.from_list([(end,start,value) for start,end,value in g.edges()])"
   ]
  },
  {
   "cell_type": "markdown",
   "metadata": {},
   "source": [
    "I chose this example deliberately as it illustrates the ability to update the graph from a list of nodes, even if that list comes from the graph itself. I also wanted to show the idiomatic use of list comprehensions for reading `start`, `end`, `value` from the method `g.edges()`.\n",
    "\n",
    "The reverse operation `to_list` also exists:"
   ]
  },
  {
   "cell_type": "code",
   "execution_count": 13,
   "metadata": {},
   "outputs": [
    {
     "data": {
      "text/plain": [
       "[(1, 2, 1),\n",
       " (1, 5, 1),\n",
       " (2, 3, 1),\n",
       " (2, 5, 1),\n",
       " (2, 1, 1),\n",
       " (3, 4, 1),\n",
       " (3, 2, 1),\n",
       " (4, 5, 1),\n",
       " (4, 3, 1),\n",
       " (5, 6, 1),\n",
       " (5, 1, 1),\n",
       " (5, 2, 1),\n",
       " (5, 4, 1),\n",
       " (6, 5, 1),\n",
       " (1,),\n",
       " (2,),\n",
       " (3,),\n",
       " (4,),\n",
       " (5,),\n",
       " (6,)]"
      ]
     },
     "execution_count": 13,
     "metadata": {},
     "output_type": "execute_result"
    }
   ],
   "source": [
    "g.to_list()"
   ]
  },
  {
   "cell_type": "markdown",
   "metadata": {},
   "source": [
    "The method lists all edges first, followed by all nodes"
   ]
  },
  {
   "cell_type": "markdown",
   "metadata": {},
   "source": [
    "If, you have the need to lookup particular edges or values directly `to_dict` may be more convenient:"
   ]
  },
  {
   "cell_type": "code",
   "execution_count": 14,
   "metadata": {},
   "outputs": [
    {
     "data": {
      "text/plain": [
       "{1: {2: 1, 5: 1},\n",
       " 2: {3: 1, 5: 1, 1: 1},\n",
       " 3: {4: 1, 2: 1},\n",
       " 4: {5: 1, 3: 1},\n",
       " 5: {6: 1, 1: 1, 2: 1, 4: 1},\n",
       " 6: {5: 1}}"
      ]
     },
     "execution_count": 14,
     "metadata": {},
     "output_type": "execute_result"
    }
   ],
   "source": [
    "g.to_dict()"
   ]
  },
  {
   "cell_type": "markdown",
   "metadata": {},
   "source": [
    "`to_dict`s inverse operation is `from_dict`, which behaves in the exact same way as `to_list`/`from_list`:"
   ]
  },
  {
   "cell_type": "code",
   "execution_count": 15,
   "metadata": {},
   "outputs": [],
   "source": [
    "g2 = Graph(from_dict=g.to_dict())"
   ]
  },
  {
   "cell_type": "markdown",
   "metadata": {},
   "source": [
    "Here we created `g2` from `g`."
   ]
  },
  {
   "cell_type": "code",
   "execution_count": 16,
   "metadata": {},
   "outputs": [
    {
     "data": {
      "text/plain": [
       "{1: {2: 1, 5: 1},\n",
       " 2: {3: 1, 5: 1, 1: 1},\n",
       " 5: {6: 1, 1: 1, 2: 1, 4: 1},\n",
       " 3: {4: 1, 2: 1},\n",
       " 4: {5: 1, 3: 1},\n",
       " 6: {5: 1}}"
      ]
     },
     "execution_count": 16,
     "metadata": {},
     "output_type": "execute_result"
    }
   ],
   "source": [
    "g2.to_dict()"
   ]
  },
  {
   "cell_type": "markdown",
   "metadata": {},
   "source": [
    "This may seem as a long way to copy when the libray already has the method `g.copy()`. The difference between the two methods, though, is that `g2=Graph(from_list(g.to_list()))` does not copy the reference to objects that you may have set using `g.add_node('a', obj='!!!')`. `g.copy()` will copy there reference too."
   ]
  },
  {
   "cell_type": "code",
   "execution_count": 17,
   "metadata": {
    "jupyter": {
     "outputs_hidden": false
    },
    "pycharm": {
     "name": "#%%\n"
    }
   },
   "outputs": [],
   "source": [
    "from graph import Graph\n",
    "\n",
    "g = Graph()\n",
    "g.add_edge('A', 'B', value=4)  # a direct edge\n",
    "g.add_edge('A', 'ab', value=2)  # dummy edge from A to dummy node ab\n",
    "g.add_edge('ab', 'B', value=2)   # dummy edge from dummy node ab to B"
   ]
  },
  {
   "cell_type": "markdown",
   "metadata": {
    "pycharm": {
     "name": "#%% md\n"
    }
   },
   "source": [
    "Creating these dummy nodes by hand isn't very effective, so if you have a list of edges like in the example below it is good to know that nodes can be any hashable object, e.g. tuples, strings, numbers, ..."
   ]
  },
  {
   "cell_type": "code",
   "execution_count": 18,
   "metadata": {
    "jupyter": {
     "outputs_hidden": false
    },
    "pycharm": {
     "name": "#%%\n"
    }
   },
   "outputs": [
    {
     "name": "stdout",
     "output_type": "stream",
     "text": [
      "('A', ('A', 'B', 4), 4)\n",
      "('A', ('A', 'B', 3), 3)\n",
      "('A', ('A', 'B', 2), 2)\n",
      "(('A', 'B', 4), 'B', 0)\n",
      "(('A', 'B', 3), 'B', 0)\n",
      "(('A', 'B', 2), 'B', 0)\n"
     ]
    }
   ],
   "source": [
    "L = [('A','B',4), ('A','B',3), ('A','B',2)]\n",
    "g = Graph()\n",
    "for edge in L:\n",
    "        start,end,value = edge  # using the edge tuple as dummy node.\n",
    "        g.add_edge(start, edge, value) # adding the value on the way to the dummy node.\n",
    "        g.add_edge(edge, end, 0)  # adding zero as the value has already been added.\n",
    "\n",
    "for edge in g.edges():\n",
    "    print(edge)"
   ]
  },
  {
   "cell_type": "markdown",
   "metadata": {
    "pycharm": {
     "name": "#%% md\n"
    }
   },
   "source": [
    "The benefit of doing this is that most algorithms are simpler to implement (and understand!) when dummy nodes are explicit. As an outset you will always know your list of \"real\" nodes and can hence exclude dummy nodes when reading through the list of nodes. It would for example be silly to search for a dummy node when looking for the shortest path between two \"real\" nodes, as it is a pragmatic assumption that the algorithm will only have to search for the shortest path between two meaningful points."
   ]
  },
  {
   "cell_type": "markdown",
   "metadata": {
    "pycharm": {
     "name": "#%% md\n"
    }
   },
   "source": [
    "### Inspecting the source code\n",
    "\n",
    "Since we are at this, you can count on all algorithms being available directly on the `Graph` class,\n",
    "so that, for example the shortest path algorithm is available as:\n",
    "\n",
    "```\n",
    "g.shortest_path('A','B')\n",
    "```\n",
    "\n",
    "All the documentation is also available using the built-in help menu:"
   ]
  },
  {
   "cell_type": "code",
   "execution_count": 19,
   "metadata": {
    "jupyter": {
     "outputs_hidden": false
    },
    "pycharm": {
     "name": "#%%\n"
    }
   },
   "outputs": [
    {
     "name": "stdout",
     "output_type": "stream",
     "text": [
      "Help on function shortest_path in module graph:\n",
      "\n",
      "shortest_path(self, start, end, memoize=False, avoids=None)\n",
      "    :param start: start node\n",
      "    :param end: end node\n",
      "    :param memoize: boolean (stores paths in a cache for faster repeated lookup)\n",
      "    :param avoids: optional. A frozen set of nodes that cannot be on the path.\n",
      "    :return: distance, path as list\n",
      "\n"
     ]
    }
   ],
   "source": [
    "help(Graph.shortest_path)"
   ]
  },
  {
   "cell_type": "markdown",
   "metadata": {},
   "source": [
    "If you want a more detail description of what is going on, it is often helpful to directly to the specific function."
   ]
  },
  {
   "cell_type": "code",
   "execution_count": 20,
   "metadata": {},
   "outputs": [],
   "source": [
    "import inspect"
   ]
  },
  {
   "cell_type": "code",
   "execution_count": 21,
   "metadata": {},
   "outputs": [
    {
     "name": "stdout",
     "output_type": "stream",
     "text": [
      "    def shortest_path(self, start, end, memoize=False, avoids=None):\n",
      "        \"\"\"\n",
      "        :param start: start node\n",
      "        :param end: end node\n",
      "        :param memoize: boolean (stores paths in a cache for faster repeated lookup)\n",
      "        :param avoids: optional. A frozen set of nodes that cannot be on the path.\n",
      "        :return: distance, path as list\n",
      "        \"\"\"\n",
      "        if not memoize:\n",
      "            return shortest_path(graph=self, start=start, end=end, avoids=avoids)\n",
      "\n",
      "        if self._cache is None:\n",
      "            self._cache = ShortestPathCache(graph=self)\n",
      "        return self._cache.shortest_path(start, end, avoids=avoids)\n",
      "\n"
     ]
    }
   ],
   "source": [
    "print(inspect.getsource(Graph.shortest_path))"
   ]
  },
  {
   "cell_type": "markdown",
   "metadata": {},
   "source": [
    "Here you see that Graph wraps the function `shortest_path` and, should you choose to use the keyword `memoize=True` that it uses the class `ShortestPathCache`.\n",
    "\n",
    "These can be inspected again in the same way:"
   ]
  },
  {
   "cell_type": "code",
   "execution_count": 22,
   "metadata": {},
   "outputs": [
    {
     "name": "stdout",
     "output_type": "stream",
     "text": [
      "def shortest_path(graph, start, end, avoids=None):\n",
      "    \"\"\" single source shortest path algorithm.\n",
      "    :param graph: class Graph\n",
      "    :param start: start node\n",
      "    :param end: end node\n",
      "    :param avoids: optional set,frozenset or list of nodes that cannot be a part of the path.\n",
      "    :return distance, path (as list),\n",
      "            returns float('inf'), [] if no path exists.\n",
      "    \"\"\"\n",
      "    if not isinstance(graph, (BasicGraph, Graph, Graph3D)):\n",
      "        raise TypeError(f\"Expected BasicGraph, Graph or Graph3D, not {type(graph)}\")\n",
      "    if start not in graph:\n",
      "        raise ValueError(f\"{start} not in graph\")\n",
      "    if end not in graph:\n",
      "        raise ValueError(f\"{end} not in graph\")\n",
      "    if avoids is None:\n",
      "        visited = set()\n",
      "    elif not isinstance(avoids, (frozenset, set, list)):\n",
      "        raise TypeError(f\"Expect obstacles as set or frozenset, not {type(avoids)}\")\n",
      "    else:\n",
      "        visited = set(avoids)\n",
      "\n",
      "    q, minimums = [(0, 0, start, ())], {start: 0}\n",
      "    i = 1\n",
      "    while q:\n",
      "        (cost, _, v1, path) = heappop(q)\n",
      "        if v1 not in visited:\n",
      "            visited.add(v1)\n",
      "            path = (v1, path)\n",
      "\n",
      "            if v1 == end:  # exit criteria.\n",
      "                L = []\n",
      "                while path:\n",
      "                    v, path = path[0], path[1]\n",
      "                    L.append(v)\n",
      "                L.reverse()\n",
      "                return cost, L\n",
      "\n",
      "            for _, v2, dist in graph.edges(from_node=v1):\n",
      "                if v2 in visited:\n",
      "                    continue\n",
      "                prev = minimums.get(v2, None)\n",
      "                next_node = cost + dist\n",
      "                if prev is None or next_node < prev:\n",
      "                    minimums[v2] = next_node\n",
      "                    heappush(q, (next_node, i, v2, path))\n",
      "                    i += 1\n",
      "    return float(\"inf\"), []\n",
      "\n"
     ]
    }
   ],
   "source": [
    "from graph import shortest_path  # getting the function behind Graph.shortest_path\n",
    "print(inspect.getsource(shortest_path))  # viewing the code"
   ]
  },
  {
   "cell_type": "markdown",
   "metadata": {},
   "source": [
    "The code is very well annotated, so if the code doesn't explain itself, feel free to ask for a more elaborate example on the [github repo](https://github.com/root-11/graph-theory/issues).\n",
    "\n",
    "Graph-theory tries to be transparent about everything it does. As the readme on the frontpage says: \n",
    "\n",
    "> with code you can explain to your boss"
   ]
  },
  {
   "cell_type": "markdown",
   "metadata": {},
   "source": [
    "### Graphs ready for usage"
   ]
  },
  {
   "cell_type": "markdown",
   "metadata": {},
   "source": [
    "To ease the learning curve, I've added a collection of graphs that are ready for import.\n",
    "Here's one that should be familiar to most Europeans:\n",
    "\n",
    "![london underground from https://upload.wikimedia.org/wikipedia/commons/thumb/e/e1/London_Underground_Overground_DLR_Crossrail_map_zone.svg/2500px-London_Underground_Overground_DLR_Crossrail_map_zone.svg.png](images/2500pxLondon_Underground_Overground.png)"
   ]
  },
  {
   "cell_type": "code",
   "execution_count": 23,
   "metadata": {},
   "outputs": [],
   "source": [
    "from graphs import london_underground"
   ]
  },
  {
   "cell_type": "code",
   "execution_count": 24,
   "metadata": {},
   "outputs": [
    {
     "name": "stdout",
     "output_type": "stream",
     "text": [
      "Graph(302 nodes, 698 edges)\n"
     ]
    }
   ],
   "source": [
    "g = london_underground()\n",
    "print(g)"
   ]
  },
  {
   "cell_type": "markdown",
   "metadata": {},
   "source": [
    "Each node in the graph is the latitude, longitude and station name"
   ]
  },
  {
   "cell_type": "code",
   "execution_count": 25,
   "metadata": {},
   "outputs": [
    {
     "data": {
      "text/plain": [
       "(51.5226, -0.1571, 'Baker Street')"
      ]
     },
     "execution_count": 25,
     "metadata": {},
     "output_type": "execute_result"
    }
   ],
   "source": [
    "g.node(11)"
   ]
  },
  {
   "cell_type": "code",
   "execution_count": 26,
   "metadata": {},
   "outputs": [
    {
     "name": "stdout",
     "output_type": "stream",
     "text": [
      "(51.5225, -0.1631, 'Marylebone')\n",
      "(51.5234, -0.1466, \"Regent's Park\")\n",
      "(51.5203, -0.17, 'Edgware Road (C)')\n",
      "(51.5238, -0.1439, 'Great Portland Street')\n",
      "(51.5142, -0.1494, 'Bond Street')\n",
      "(51.5347, -0.174, \"St. John's Wood\")\n",
      "(51.5472, -0.1803, 'Finchley Road')\n"
     ]
    }
   ],
   "source": [
    "for station_nr in g.nodes(to_node=11):\n",
    "    print(g.node(station_nr))"
   ]
  },
  {
   "cell_type": "markdown",
   "metadata": {},
   "source": [
    "Let's make a map"
   ]
  },
  {
   "cell_type": "code",
   "execution_count": 27,
   "metadata": {},
   "outputs": [
    {
     "data": {
      "text/plain": [
       "[(-0.1571, 51.5226), (-0.1631, 51.5225), (-0.1466, 51.5234)]"
      ]
     },
     "execution_count": 27,
     "metadata": {},
     "output_type": "execute_result"
    }
   ],
   "source": [
    "stations = {station: g.node(station) for station in g.nodes()}\n",
    "london_map = Graph()\n",
    "for start,end,distance in g.edges():\n",
    "    lat1,lon1,name1 = stations[start]\n",
    "    lat2,lon2,name2 = stations[end]\n",
    "    london_map.add_edge((lon1,lat1), (lon2,lat2))\n",
    "\n",
    "london_map.nodes()[:3]"
   ]
  },
  {
   "cell_type": "code",
   "execution_count": 28,
   "metadata": {},
   "outputs": [],
   "source": [
    "from graph.visuals import plot_2d"
   ]
  },
  {
   "cell_type": "code",
   "execution_count": 29,
   "metadata": {},
   "outputs": [
    {
     "data": {
      "image/png": "[encoded data removed]",
      "text/plain": [
       "<Figure size 640x480 with 1 Axes>"
      ]
     },
     "metadata": {},
     "output_type": "display_data"
    }
   ],
   "source": [
    "plot = plot_2d(london_map)\n",
    "plot.show()"
   ]
  },
  {
   "cell_type": "markdown",
   "metadata": {},
   "source": [
    "Not exactly what you expected? Well there's a reason why the London overground map is famous for its readability in comparison to raw latitudes and longitudes."
   ]
  }
 ],
 "metadata": {
  "kernelspec": {
   "display_name": "Python 3 (ipykernel)",
   "language": "python",
   "name": "python3"
  },
  "language_info": {
   "codemirror_mode": {
    "name": "ipython",
    "version": 3
   },
   "file_extension": ".py",
   "mimetype": "text/x-python",
   "name": "python",
   "nbconvert_exporter": "python",
   "pygments_lexer": "ipython3",
   "version": "3.10.11"
  }
 },
 "nbformat": 4,
 "nbformat_minor": 4
}
