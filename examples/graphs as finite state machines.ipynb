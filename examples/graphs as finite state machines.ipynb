{
 "cells": [
  {
   "cell_type": "markdown",
   "metadata": {
    "collapsed": true
   },
   "source": [
    "# Finite State Machines \n",
    "\n",
    "Overview\n",
    "\n",
    "1. Fundamentals\n",
    "2. Turnstile\n",
    "3. Traffic Jam\n",
    "4. Sudoku\n",
    "\n",
    "But first we must be ready:"
   ]
  },
  {
   "cell_type": "code",
   "execution_count": 2,
   "metadata": {},
   "outputs": [
    {
     "name": "stdout",
     "output_type": "stream",
     "text": [
      "Note: you may need to restart the kernel to use updated packages.\n"
     ]
    },
    {
     "name": "stderr",
     "output_type": "stream",
     "text": [
      "\n",
      "[notice] A new release of pip available: 22.2.2 -> 23.1.2\n",
      "[notice] To update, run: python.exe -m pip install --upgrade pip\n"
     ]
    }
   ],
   "source": [
    "import sys\n",
    "assert (sys.version_info.major, sys.version_info.minor) >= (3,7)\n",
    "%pip install graph-theory --upgrade --no-cache -q\n",
    "from graph import Graph"
   ]
  },
  {
   "cell_type": "markdown",
   "metadata": {},
   "source": [
    "## Fundamentals\n",
    "\n",
    "Nomenclature\n",
    "\n",
    "- A finite state machine is a mathematical model of computation. \n",
    "- The model is in exactly one state at any time.\n",
    "- The model can change from one state to another using predetermined paths.\n",
    "- All possible states is called the \"solution landscape\"\n",
    "\n"
   ]
  },
  {
   "cell_type": "markdown",
   "metadata": {},
   "source": [
    "# Turnstile\n",
    "\n",
    " ![turnstile machine](images/Torniqueterevolution.jpg) ![turnstile](images/turnstile.png)"
   ]
  },
  {
   "cell_type": "code",
   "execution_count": 3,
   "metadata": {},
   "outputs": [],
   "source": [
    "from graph.finite_state_machine import FiniteStateMachine\n",
    "\n",
    "locked, unlocked = 'locked', 'unlocked'  # states\n",
    "push, coin = 'push', 'coin'  # actions\n",
    "\n",
    "fsm = FiniteStateMachine()\n",
    "fsm.add_transition(locked, coin, unlocked)  # turnstile is locked. Put in coin to unlock.\n",
    "fsm.add_transition(unlocked, push, locked)  # turnstile is unlocked. Push the rotor to lock.\n",
    "fsm.add_transition(locked, push, locked)  # turnstile is locked. Pushing does not unlock.\n",
    "fsm.add_transition(unlocked, coin, unlocked)  # turnstile is unlocked. Adding more coins does not change state.\n",
    "\n",
    "fsm.set_initial_state(locked)  # set initial state."
   ]
  },
  {
   "cell_type": "code",
   "execution_count": 4,
   "metadata": {},
   "outputs": [
    {
     "data": {
      "text/plain": [
       "{'coin', 'push'}"
      ]
     },
     "execution_count": 4,
     "metadata": {},
     "output_type": "execute_result"
    }
   ],
   "source": [
    "# check options: pay and go\n",
    "set(fsm.options())"
   ]
  },
  {
   "cell_type": "code",
   "execution_count": 5,
   "metadata": {},
   "outputs": [
    {
     "data": {
      "text/plain": [
       "True"
      ]
     },
     "execution_count": 5,
     "metadata": {},
     "output_type": "execute_result"
    }
   ],
   "source": [
    "fsm.current_state == locked"
   ]
  },
  {
   "cell_type": "code",
   "execution_count": 6,
   "metadata": {},
   "outputs": [],
   "source": [
    "# now insert coin:\n",
    "fsm.next(action=coin)"
   ]
  },
  {
   "cell_type": "code",
   "execution_count": 7,
   "metadata": {},
   "outputs": [
    {
     "data": {
      "text/plain": [
       "{'coin', 'push'}"
      ]
     },
     "execution_count": 7,
     "metadata": {},
     "output_type": "execute_result"
    }
   ],
   "source": [
    "# check options:\n",
    "set(fsm.options())"
   ]
  },
  {
   "cell_type": "code",
   "execution_count": 8,
   "metadata": {},
   "outputs": [
    {
     "data": {
      "text/plain": [
       "True"
      ]
     },
     "execution_count": 8,
     "metadata": {},
     "output_type": "execute_result"
    }
   ],
   "source": [
    "fsm.current_state == unlocked"
   ]
  },
  {
   "cell_type": "code",
   "execution_count": 9,
   "metadata": {},
   "outputs": [
    {
     "data": {
      "text/plain": [
       "True"
      ]
     },
     "execution_count": 9,
     "metadata": {},
     "output_type": "execute_result"
    }
   ],
   "source": [
    "# ok it's unlocked - so we push:\n",
    "fsm.next(action=push)\n",
    "# and check if it locks behind us:\n",
    "fsm.current_state == locked"
   ]
  },
  {
   "cell_type": "markdown",
   "metadata": {},
   "source": [
    "# Traffic Jam\n",
    "\n",
    "As finite state machines can be view as a model of *a valid state*, we can use to verify solutions to optimization problems.\n",
    "\n",
    "In the example below we have a small intersection like, where all the `red`s need to pass all the `blue`s. \n",
    "\n",
    "The order could matter, but we ignore that for now.\n",
    "\n",
    "![3-3 traffic jam](images/3-3-cart-traffic-jam_initial.png)\n",
    "\n",
    "(initial state)\n",
    "\n",
    "The solution we would like to see looks like this:\n",
    "\n",
    "![3-3 traffic jan final](images/3-3-cart-traffic-jam.png)\n",
    "\n",
    "(final state)\n",
    "\n",
    "And here's the solution that swaps all the blue and red tiles in fewest moves:\n",
    "\n",
    "![3-3 traffic jam solution](images/traffic_bi_directional.gif)\n",
    "\n",
    "Q: How did I get to that?\n",
    "\n",
    "A: 3 steps:\n",
    "\n",
    "1. Define the system as a FSM using a \"map\" of options.\n",
    "2. Set the `initial state`\n",
    "3. Search through the solution landscape until the `active state` resembles the `final state`.\n",
    "\n",
    "\n",
    "We will now solve the same problem using a just a tiny subset.\n",
    "\n",
    "Let's start with the map:\n",
    "\n",
    "![tjs-map](images/tjs-map.png)"
   ]
  },
  {
   "cell_type": "code",
   "execution_count": 10,
   "metadata": {},
   "outputs": [],
   "source": [
    "g = Graph()\n",
    "edges = [(1,2),(2,3),(2,4)]\n",
    "for edge in edges:\n",
    "    g.add_edge(*edge, bidirectional=True)"
   ]
  },
  {
   "cell_type": "markdown",
   "metadata": {},
   "source": [
    "Next I add the tiles to represent the initial state and the final state:\n",
    "\n",
    "![tjs with pug](images/tjs-map-loads.png)"
   ]
  },
  {
   "cell_type": "code",
   "execution_count": 11,
   "metadata": {},
   "outputs": [],
   "source": [
    "loads = [\n",
    "    {'id':'red', 'start': 1, 'ends': 3}, \n",
    "    {'id': 'blue', 'start': 3, 'ends': 1}\n",
    "]"
   ]
  },
  {
   "cell_type": "code",
   "execution_count": 12,
   "metadata": {},
   "outputs": [],
   "source": [
    "from graph.traffic_scheduling_problem import jam_solver"
   ]
  },
  {
   "cell_type": "code",
   "execution_count": 13,
   "metadata": {},
   "outputs": [
    {
     "name": "stdout",
     "output_type": "stream",
     "text": [
      "queue exhausted\n"
     ]
    }
   ],
   "source": [
    "solution = jam_solver(g,loads)"
   ]
  },
  {
   "cell_type": "code",
   "execution_count": 14,
   "metadata": {},
   "outputs": [
    {
     "data": {
      "text/plain": [
       "[{'red': (1, 2)},\n",
       " {'red': (2, 4), 'blue': (3, 2)},\n",
       " {'blue': (2, 1), 'red': (4, 2)},\n",
       " {'red': (2, 3)}]"
      ]
     },
     "execution_count": 14,
     "metadata": {},
     "output_type": "execute_result"
    }
   ],
   "source": [
    "solution"
   ]
  },
  {
   "cell_type": "code",
   "execution_count": 15,
   "metadata": {},
   "outputs": [
    {
     "name": "stdout",
     "output_type": "stream",
     "text": [
      "red moves from 1 to 2\n",
      "red moves from 2 to 4\n",
      "blue moves from 3 to 2\n",
      "blue moves from 2 to 1\n",
      "red moves from 4 to 2\n",
      "red moves from 2 to 3\n"
     ]
    }
   ],
   "source": [
    "# in plain english:\n",
    "for move in solution:\n",
    "    for color,(start,end) in move.items():\n",
    "        print(f\"{color} moves from {start} to {end}\")"
   ]
  },
  {
   "cell_type": "markdown",
   "metadata": {},
   "source": [
    "So what kind of `finite state machine` is the traffic jam solver using?\n",
    "\n",
    "Each state is captured on a graph which represents a `tree of options`. As there are a finite number of options to for changing the finite state machine from it's current state to the next state, we can capture the change as branches our `tree of options`. Every time our \"search\" generates a novel branch, we add that to the tree. The unexplored options then become our \"frontier\" from which we search further.\n",
    "\n",
    "![tjs](images/3-3-tree-of-states.png)\n",
    "\n",
    "We can make a deep-copy of our state machine, as the tree above illustrates, but will quickly consume a terrible amount of memory, \n",
    "\n",
    "To capture each `state` of the `finite state machine` we only need to look at the position of loads. Here is an example:"
   ]
  },
  {
   "cell_type": "code",
   "execution_count": 16,
   "metadata": {},
   "outputs": [],
   "source": [
    "state_0 = ((1, 'red'), (2, None), (3, 'blue'), (4, None))\n",
    "state_1 = ((1, None), (2, 'red'), (3, 'blue'), (4, None))\n",
    "state_2 = ((1, 'red'), (2, 'blue'), (3, None), (4, None))\n"
   ]
  },
  {
   "cell_type": "markdown",
   "metadata": {},
   "source": [
    "We can now put these states into our `tree of options` as a graph:"
   ]
  },
  {
   "cell_type": "code",
   "execution_count": 17,
   "metadata": {},
   "outputs": [],
   "source": [
    "\n",
    "fsm_graph = Graph()\n",
    "fsm_graph.add_edge(state_0, state_1)  # there is a path from state_0 to state_1\n",
    "fsm_graph.add_edge(state_0, state_2)  # there is a path from state_0 to state_2"
   ]
  },
  {
   "cell_type": "markdown",
   "metadata": {},
   "source": [
    "The search now becomes:\n",
    "\n",
    "1. \"make a change\", \n",
    "2. check if it exists in the graph (and add it to the graph if it is novel). \n",
    "\n",
    "However the state definition contains a lot of `None`s that don't really add much.\n",
    "\n",
    "Suggestion: Let's just drop all the `None`s that information.\n",
    "\n",
    "New graph:"
   ]
  },
  {
   "cell_type": "code",
   "execution_count": 18,
   "metadata": {},
   "outputs": [],
   "source": [
    "state_0 = ((1, 'red'), (3, 'blue'))\n",
    "state_1 = ((2, 'red'), (3, 'blue'))\n",
    "state_2 = ((1, 'red'), (2, 'blue'))\n",
    "\n",
    "fsm_graph = Graph()\n",
    "fsm_graph.add_edge(state_0, state_1)\n",
    "fsm_graph.add_edge(state_0, state_2)"
   ]
  },
  {
   "cell_type": "markdown",
   "metadata": {},
   "source": [
    "That's nicer to read.\n",
    "\n",
    "We can now make a solver that identifies a path from the `initial state` to the `final state`, simply by searching along the frontier from the `initial state`:"
   ]
  },
  {
   "cell_type": "code",
   "execution_count": 19,
   "metadata": {},
   "outputs": [],
   "source": [
    "# we need the \"map\" from earlier:\n",
    "the_map = Graph()\n",
    "edges = [(1,2),(2,3),(2,4)]\n",
    "for edge in edges:\n",
    "    the_map.add_edge(*edge, bidirectional=True)\n",
    "\n",
    "# we need the \"frontier\"\n",
    "job_queue = [state_0, state_1, state_2]  # (you really only need state_0)\n",
    "\n",
    "# we need a \"final state\"\n",
    "final_state = tuple(sorted([(3,'red'), (1,'blue')]))\n",
    "\n",
    "# we need a search\n",
    "while job_queue:\n",
    "    state = job_queue.pop()\n",
    "    occupied = {position for position,item in state}\n",
    "    for position, item in state:  # 'red' on position 2.\n",
    "        for option in the_map.nodes(from_node=position):  # positions {1,4}\n",
    "            if option in occupied:\n",
    "                continue  # skip it.\n",
    "            \n",
    "            new_state = tuple(sorted([(option, item)] + [(o,i) for o,i in state if i != item]))\n",
    "            \n",
    "            if new_state in fsm_graph:\n",
    "                continue  # we've already seen it.\n",
    "            \n",
    "            # we add the new state to be explored.\n",
    "            fsm_graph.add_edge(state, new_state)\n",
    "            job_queue.append(new_state)\n",
    "\n",
    "            if new_state == final_state:\n",
    "                break"
   ]
  },
  {
   "cell_type": "markdown",
   "metadata": {},
   "source": [
    "As the solver has made the tree of options of the finite state diagram we can have a quick look:"
   ]
  },
  {
   "cell_type": "code",
   "execution_count": 20,
   "metadata": {},
   "outputs": [
    {
     "data": {
      "text/plain": [
       "[((1, 'red'), (3, 'blue')),\n",
       " ((2, 'red'), (3, 'blue')),\n",
       " ((1, 'red'), (2, 'blue')),\n",
       " ((1, 'red'), (4, 'blue')),\n",
       " ((2, 'red'), (4, 'blue')),\n",
       " ((3, 'red'), (4, 'blue')),\n",
       " ((2, 'blue'), (3, 'red')),\n",
       " ((1, 'blue'), (3, 'red')),\n",
       " ((1, 'blue'), (2, 'red')),\n",
       " ((1, 'blue'), (4, 'red')),\n",
       " ((2, 'blue'), (4, 'red')),\n",
       " ((3, 'blue'), (4, 'red'))]"
      ]
     },
     "execution_count": 20,
     "metadata": {},
     "output_type": "execute_result"
    }
   ],
   "source": [
    "fsm_graph.nodes()"
   ]
  },
  {
   "cell_type": "markdown",
   "metadata": {},
   "source": [
    "To find the fewest moves to resolve the traffic jam, we can just ask the finite state diagram for the shortest path from the `initial state` to the `final state`:"
   ]
  },
  {
   "cell_type": "code",
   "execution_count": 21,
   "metadata": {},
   "outputs": [
    {
     "data": {
      "text/plain": [
       "(6,\n",
       " [((1, 'red'), (3, 'blue')),\n",
       "  ((1, 'red'), (2, 'blue')),\n",
       "  ((1, 'red'), (4, 'blue')),\n",
       "  ((2, 'red'), (4, 'blue')),\n",
       "  ((3, 'red'), (4, 'blue')),\n",
       "  ((2, 'blue'), (3, 'red')),\n",
       "  ((1, 'blue'), (3, 'red'))])"
      ]
     },
     "execution_count": 21,
     "metadata": {},
     "output_type": "execute_result"
    }
   ],
   "source": [
    "fsm_graph.shortest_path(state_0, final_state)"
   ]
  },
  {
   "cell_type": "markdown",
   "metadata": {},
   "source": [
    "And there you have it! The solution from earlier:\n",
    "\n",
    "```\n",
    "red moves from 1 to 2\n",
    "red moves from 2 to 4\n",
    "blue moves from 3 to 2\n",
    "blue moves from 2 to 1\n",
    "red moves from 4 to 2\n",
    "red moves from 2 to 3\n",
    "```\n",
    "\n",
    "and the solution above shows, state by state what has changed. \n",
    "\n",
    "Note that the two valid solutions interchangeable. "
   ]
  },
  {
   "cell_type": "markdown",
   "metadata": {},
   "source": [
    "# Sudoku\n",
    "\n",
    "Solving a sudoku is no different can be done in a similar way, but our search can become a lot more efficient if we introduce the ideas of a wave collapse function.\n",
    "\n",
    "Q: A what-collapse?\n",
    "\n",
    "A: A wave collapse function. \n",
    "\n",
    "Q: ???\n",
    "\n",
    "A: Imagine you're surfing on a wave from an `initial state` over undefined state (US) space. As the wave rolls over the undefined space (US), it imposes the most probably outcome onto the undefined space. Each insertion causes the options of the neighbouring spaces to collapse from all possible options to very few plausible options. [More about wave collapse functions](https://github.com/mxgmn/WaveFunctionCollapse)\n",
    "\n",
    "![sudoku](images/sudoku-wave-collapse-1.png)\n",
    "\n",
    "Inserting for example `2` in the red box would immediately make `2` unavailable in all other boxes in top right corner. That is an example of a collapse of options.\n",
    "\n",
    "We can describe the \"options\" for each cell as: numbers - (box + row + column), e.g. the  `red` cell as:"
   ]
  },
  {
   "cell_type": "code",
   "execution_count": 22,
   "metadata": {},
   "outputs": [
    {
     "data": {
      "text/plain": [
       "{2, 7, 9}"
      ]
     },
     "execution_count": 22,
     "metadata": {},
     "output_type": "execute_result"
    }
   ],
   "source": [
    "{1,2,3,4,5,6,7,8,9} - ({1,3,4,5,6,8} | {3,5} | {3,4,6}) "
   ]
  },
  {
   "cell_type": "markdown",
   "metadata": {},
   "source": [
    "We can also describe a whole sudoku's state as a list numbers, with zero as the uncollapsed space:.\n",
    "\n",
    "The box above hence becomes: \n",
    "```\n",
    "[8,4,1,\n",
    " 0,0,6,\n",
    " 5,0,3]\n",
    "```\n",
    "\n",
    "Doing the same for a whole sudoku like this: \n",
    "\n",
    "![?](images/easy_sudoku.png)\n",
    "\n",
    "can then be:\n",
    "\n"
   ]
  },
  {
   "cell_type": "code",
   "execution_count": 23,
   "metadata": {},
   "outputs": [],
   "source": [
    "sudoku = [\n",
    "    # cell value        # cell number\n",
    "    0,0,4,0,5,0,0,0,0,  #  0, 1, 2, 3, 4, 5, 6, 7, 8,\n",
    "    9,0,0,7,3,4,6,0,0,  #  9,10,11,12,13,14,15,16,17,\n",
    "    0,0,3,0,2,1,0,4,9,  # 18,19,20,21,22,23,24,25,26,  \n",
    "    0,3,5,0,9,0,4,8,0,  # 27,28,29,30,31,32,33,34,35,\n",
    "    0,9,0,0,0,0,0,3,0,  # 36,37,38,39,40,41,42,43,44,\n",
    "    0,7,6,0,1,0,9,2,0,  # 45,46,47,48,49,50,51,52,53,\n",
    "    3,1,0,9,7,0,2,0,0,  # 54,55,56,57,58,59,60,61,62,\n",
    "    0,0,9,1,8,2,0,0,3,  # 63,64,65,66,67,68,69,70,71,\n",
    "    0,0,0,0,6,0,1,0,0,  # 72,73,74,75,76,77,78,79,80\n",
    "    # zero = blank.\n",
    "]"
   ]
  },
  {
   "cell_type": "markdown",
   "metadata": {},
   "source": [
    "To describe the options for a particular cell, we now need some basic math:\n",
    "\n",
    "We find the set of number that have not been used - just like a minute ago - but we use the \"cell\" based address system."
   ]
  },
  {
   "cell_type": "markdown",
   "metadata": {},
   "source": [
    "![field_53 options](images/easy_sudoku3.png)"
   ]
  },
  {
   "cell_type": "code",
   "execution_count": 24,
   "metadata": {},
   "outputs": [],
   "source": [
    "from math import floor\n",
    "numbers = {1,2,3,4,5,6,7,8,9}\n",
    "\n",
    "def options(cell,sudoku):    \n",
    "    column = {v for ix, v in enumerate(sudoku) if ix % 9 == cell % 9}\n",
    "    row = {v for ix, v in enumerate(sudoku) if ix // 9 == cell // 9}\n",
    "    box = {v for ix, v in enumerate(sudoku) if (ix // (9 * 3) == cell // (9 * 3)) and ((ix % 9) // 3 == (cell % 9) // 3)}\n",
    "    return numbers - (box | row | column)"
   ]
  },
  {
   "cell_type": "code",
   "execution_count": 25,
   "metadata": {},
   "outputs": [
    {
     "data": {
      "text/plain": [
       "{5}"
      ]
     },
     "execution_count": 25,
     "metadata": {},
     "output_type": "execute_result"
    }
   ],
   "source": [
    "options(53, sudoku)"
   ]
  },
  {
   "cell_type": "markdown",
   "metadata": {},
   "source": [
    "So there's one option for cell number 53, meaning that the solution landscape *must* eventually collapse around this single option. We can now guide our \"search\" by picking the cell's that have least options.\n",
    "\n",
    "Let's find them:"
   ]
  },
  {
   "cell_type": "code",
   "execution_count": 26,
   "metadata": {},
   "outputs": [
    {
     "name": "stdout",
     "output_type": "stream",
     "text": [
      "[5, 3, 0, 2, 0, 3, 3, 2, 4]\n",
      "[0, 3, 3, 0, 0, 0, 0, 2, 4]\n",
      "[4, 3, 0, 2, 0, 0, 3, 0, 0]\n",
      "[2, 0, 0, 2, 0, 2, 0, 0, 3]\n",
      "[4, 0, 3, 5, 1, 4, 2, 0, 4]\n",
      "[2, 0, 0, 4, 0, 3, 0, 0, 1]\n",
      "[0, 0, 1, 0, 0, 1, 0, 2, 4]\n",
      "[4, 3, 0, 0, 0, 0, 2, 3, 0]\n",
      "[5, 4, 3, 3, 0, 2, 0, 3, 4]\n"
     ]
    }
   ],
   "source": [
    "degrees_of_freedom = [0 if v!=0 else len(options(ix,sudoku)) for ix,v in enumerate(sudoku)]\n",
    "\n",
    "for i in range(9):\n",
    "    print(degrees_of_freedom[i*9:i*9+9])"
   ]
  },
  {
   "cell_type": "markdown",
   "metadata": {},
   "source": [
    "Each of the numbers are the number of options available for each cell.\n",
    "\n",
    "We can then design our solver to inspect the sudoku as a finite state machine, where the \"current state\" is our partial solution, e.g. a list with 81 integers.\n",
    "\n",
    "![](images/sudoku_solver1.png)"
   ]
  },
  {
   "cell_type": "code",
   "execution_count": 27,
   "metadata": {},
   "outputs": [
    {
     "name": "stdout",
     "output_type": "stream",
     "text": [
      "[2, 6, 4, 8, 5, 9, 3, 1, 7]\n",
      "[9, 8, 1, 7, 3, 4, 6, 5, 2]\n",
      "[7, 5, 3, 6, 2, 1, 8, 4, 9]\n",
      "[1, 3, 5, 2, 9, 7, 4, 8, 6]\n",
      "[8, 9, 2, 5, 4, 6, 7, 3, 1]\n",
      "[4, 7, 6, 3, 1, 8, 9, 2, 5]\n",
      "[3, 1, 8, 9, 7, 5, 2, 6, 4]\n",
      "[6, 4, 9, 1, 8, 2, 5, 7, 3]\n",
      "[5, 2, 7, 4, 6, 3, 1, 9, 8]\n"
     ]
    }
   ],
   "source": [
    "# the sudoku is our initial state.\n",
    "initial_state = sudoku[:]\n",
    "\n",
    "job_queue = [initial_state]  # we need the jobqueue in case of ambiguity of choice.\n",
    "\n",
    "while job_queue:\n",
    "    state = job_queue.pop(0)\n",
    "    if not any(i==0 for i in state):  # no missing values means that the sudoku is solved.\n",
    "        break\n",
    "\n",
    "    degrees_of_freedom = [0 if v!=0 else len(options(ix,state)) for ix,v in enumerate(state)]\n",
    "    least_freedom = min(v for v in degrees_of_freedom if v > 0)\n",
    "    cell = degrees_of_freedom.index(least_freedom)\n",
    "\n",
    "    for option in options(cell, state):  # for each option we add the new state to the queue.\n",
    "        new_state = state[:]\n",
    "        new_state[cell] = option\n",
    "        job_queue.append(new_state)\n",
    "\n",
    "# we print out the solution\n",
    "for i in range(9):\n",
    "    print(state[i*9:i*9+9])"
   ]
  },
  {
   "cell_type": "markdown",
   "metadata": {},
   "source": [
    "# Conclusions\n",
    "\n",
    "What did we learn?\n",
    "\n",
    "Finite State Machines ...\n",
    "\n",
    "- are mathematical models of states and transitions.\n",
    "- can be used as generators for mapping of a solution landscape.\n",
    "- can be used to solve any discrete problem."
   ]
  }
 ],
 "metadata": {
  "kernelspec": {
   "display_name": "Python 3.10.5 ('graph310')",
   "language": "python",
   "name": "python3"
  },
  "language_info": {
   "codemirror_mode": {
    "name": "ipython",
    "version": 3
   },
   "file_extension": ".py",
   "mimetype": "text/x-python",
   "name": "python",
   "nbconvert_exporter": "python",
   "pygments_lexer": "ipython3",
   "version": "3.10.11"
  },
  "vscode": {
   "interpreter": {
    "hash": "26e418a870e8218a0038cc410eecceadac9265fed4dd23580d1f865f336a3180"
   }
  }
 },
 "nbformat": 4,
 "nbformat_minor": 0
}
